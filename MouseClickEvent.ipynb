{
 "cells": [
  {
   "cell_type": "markdown",
   "metadata": {},
   "source": [
    "### Importing the Library"
   ]
  },
  {
   "cell_type": "code",
   "execution_count": 10,
   "metadata": {},
   "outputs": [],
   "source": [
    "import cv2"
   ]
  },
  {
   "cell_type": "markdown",
   "metadata": {},
   "source": [
    "Runnning the main code"
   ]
  },
  {
   "cell_type": "code",
   "execution_count": 12,
   "metadata": {},
   "outputs": [],
   "source": [
    "# Reading the library\n",
    "img = cv2.imread(\"lena.jpg\", 1)\n",
    "\n",
    "# defining the mouse click funciton\n",
    "def mouse_click(event,x,y,flag,param):\n",
    "# def mouse_click(event,x,y):\n",
    "\n",
    "    if event == cv2.EVENT_LBUTTONDBLCLK:\n",
    "        cv2.circle(img,(x,y),15,(255,9,0),10) # real time points x & y\n",
    "\n",
    "# Creating a named window\n",
    "cv2.namedWindow(\"Image\")\n",
    "\n",
    "# Setting mouse callback for mouse_click function\n",
    "cv2.setMouseCallback(\"Image\", mouse_click)\n",
    "\n",
    "# Infinitely Running the window till we press esc which has ord = 27\n",
    "while (1):\n",
    "    cv2.imshow(\"Image\",img)\n",
    "\n",
    "    if cv2.waitKey(1) & 0xFF == 27:\n",
    "        break\n",
    "\n",
    "# Destroying all windows once the work is done\n",
    "cv2.destroyAllWindows()"
   ]
  }
 ],
 "metadata": {
  "kernelspec": {
   "display_name": "Python 3",
   "language": "python",
   "name": "python3"
  },
  "language_info": {
   "codemirror_mode": {
    "name": "ipython",
    "version": 3
   },
   "file_extension": ".py",
   "mimetype": "text/x-python",
   "name": "python",
   "nbconvert_exporter": "python",
   "pygments_lexer": "ipython3",
   "version": "3.10.12"
  }
 },
 "nbformat": 4,
 "nbformat_minor": 2
}
