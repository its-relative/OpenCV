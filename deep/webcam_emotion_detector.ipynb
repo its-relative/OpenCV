{
 "cells": [
  {
   "cell_type": "code",
   "execution_count": 1,
   "metadata": {},
   "outputs": [
    {
     "name": "stderr",
     "output_type": "stream",
     "text": [
      "2023-12-30 13:29:03.053082: I tensorflow/core/util/port.cc:113] oneDNN custom operations are on. You may see slightly different numerical results due to floating-point round-off errors from different computation orders. To turn them off, set the environment variable `TF_ENABLE_ONEDNN_OPTS=0`.\n",
      "2023-12-30 13:29:03.055301: I external/local_tsl/tsl/cuda/cudart_stub.cc:31] Could not find cuda drivers on your machine, GPU will not be used.\n",
      "2023-12-30 13:29:03.082124: E external/local_xla/xla/stream_executor/cuda/cuda_dnn.cc:9261] Unable to register cuDNN factory: Attempting to register factory for plugin cuDNN when one has already been registered\n",
      "2023-12-30 13:29:03.082161: E external/local_xla/xla/stream_executor/cuda/cuda_fft.cc:607] Unable to register cuFFT factory: Attempting to register factory for plugin cuFFT when one has already been registered\n",
      "2023-12-30 13:29:03.083065: E external/local_xla/xla/stream_executor/cuda/cuda_blas.cc:1515] Unable to register cuBLAS factory: Attempting to register factory for plugin cuBLAS when one has already been registered\n",
      "2023-12-30 13:29:03.088811: I external/local_tsl/tsl/cuda/cudart_stub.cc:31] Could not find cuda drivers on your machine, GPU will not be used.\n",
      "2023-12-30 13:29:03.089596: I tensorflow/core/platform/cpu_feature_guard.cc:182] This TensorFlow binary is optimized to use available CPU instructions in performance-critical operations.\n",
      "To enable the following instructions: AVX2 AVX512F AVX512_VNNI FMA, in other operations, rebuild TensorFlow with the appropriate compiler flags.\n",
      "2023-12-30 13:29:03.927300: W tensorflow/compiler/tf2tensorrt/utils/py_utils.cc:38] TF-TRT Warning: Could not find TensorRT\n"
     ]
    }
   ],
   "source": [
    "import cv2\n",
    "from deepface import DeepFace\n"
   ]
  },
  {
   "cell_type": "code",
   "execution_count": 2,
   "metadata": {},
   "outputs": [
    {
     "name": "stdout",
     "output_type": "stream",
     "text": [
      "Error: Face could not be detected. Please confirm that the picture is a face photo or consider to set enforce_detection param to False.\n",
      "Face could not be detected. Skipping this frame.\n",
      "Error: Face could not be detected. Please confirm that the picture is a face photo or consider to set enforce_detection param to False.\n",
      "Face could not be detected. Skipping this frame.\n",
      "Error: Face could not be detected. Please confirm that the picture is a face photo or consider to set enforce_detection param to False.\n",
      "Face could not be detected. Skipping this frame.\n",
      "Error: Face could not be detected. Please confirm that the picture is a face photo or consider to set enforce_detection param to False.\n",
      "Face could not be detected. Skipping this frame.\n",
      "Error: Face could not be detected. Please confirm that the picture is a face photo or consider to set enforce_detection param to False.\n",
      "Face could not be detected. Skipping this frame.\n",
      "Error: Face could not be detected. Please confirm that the picture is a face photo or consider to set enforce_detection param to False.\n",
      "Face could not be detected. Skipping this frame.\n",
      "Error: Face could not be detected. Please confirm that the picture is a face photo or consider to set enforce_detection param to False.\n",
      "Face could not be detected. Skipping this frame.\n",
      "Error: Face could not be detected. Please confirm that the picture is a face photo or consider to set enforce_detection param to False.\n",
      "Face could not be detected. Skipping this frame.\n",
      "Error: Face could not be detected. Please confirm that the picture is a face photo or consider to set enforce_detection param to False.\n",
      "Face could not be detected. Skipping this frame.\n",
      "Error: Face could not be detected. Please confirm that the picture is a face photo or consider to set enforce_detection param to False.\n",
      "Face could not be detected. Skipping this frame.\n",
      "Error: Face could not be detected. Please confirm that the picture is a face photo or consider to set enforce_detection param to False.\n",
      "Face could not be detected. Skipping this frame.\n",
      "Error: Face could not be detected. Please confirm that the picture is a face photo or consider to set enforce_detection param to False.\n",
      "Face could not be detected. Skipping this frame.\n",
      "Error: Face could not be detected. Please confirm that the picture is a face photo or consider to set enforce_detection param to False.\n",
      "Face could not be detected. Skipping this frame.\n",
      "Error: Face could not be detected. Please confirm that the picture is a face photo or consider to set enforce_detection param to False.\n",
      "Face could not be detected. Skipping this frame.\n",
      "Error: Face could not be detected. Please confirm that the picture is a face photo or consider to set enforce_detection param to False.\n",
      "Face could not be detected. Skipping this frame.\n",
      "Error: Face could not be detected. Please confirm that the picture is a face photo or consider to set enforce_detection param to False.\n",
      "Face could not be detected. Skipping this frame.\n",
      "Error: Face could not be detected. Please confirm that the picture is a face photo or consider to set enforce_detection param to False.\n",
      "Face could not be detected. Skipping this frame.\n",
      "Error: Face could not be detected. Please confirm that the picture is a face photo or consider to set enforce_detection param to False.\n",
      "Face could not be detected. Skipping this frame.\n",
      "Error: Face could not be detected. Please confirm that the picture is a face photo or consider to set enforce_detection param to False.\n",
      "Face could not be detected. Skipping this frame.\n",
      "Error: Face could not be detected. Please confirm that the picture is a face photo or consider to set enforce_detection param to False.\n",
      "Face could not be detected. Skipping this frame.\n",
      "Error: Face could not be detected. Please confirm that the picture is a face photo or consider to set enforce_detection param to False.\n",
      "Face could not be detected. Skipping this frame.\n",
      "Error: Face could not be detected. Please confirm that the picture is a face photo or consider to set enforce_detection param to False.\n",
      "Face could not be detected. Skipping this frame.\n",
      "Error: Face could not be detected. Please confirm that the picture is a face photo or consider to set enforce_detection param to False.\n",
      "Face could not be detected. Skipping this frame.\n",
      "Error: Face could not be detected. Please confirm that the picture is a face photo or consider to set enforce_detection param to False.\n",
      "Face could not be detected. Skipping this frame.\n",
      "Error: Face could not be detected. Please confirm that the picture is a face photo or consider to set enforce_detection param to False.\n",
      "Face could not be detected. Skipping this frame.\n",
      "Error: Face could not be detected. Please confirm that the picture is a face photo or consider to set enforce_detection param to False.\n",
      "Face could not be detected. Skipping this frame.\n",
      "Error: Face could not be detected. Please confirm that the picture is a face photo or consider to set enforce_detection param to False.\n",
      "Face could not be detected. Skipping this frame.\n",
      "Error: Face could not be detected. Please confirm that the picture is a face photo or consider to set enforce_detection param to False.\n",
      "Face could not be detected. Skipping this frame.\n",
      "Error: Face could not be detected. Please confirm that the picture is a face photo or consider to set enforce_detection param to False.\n",
      "Face could not be detected. Skipping this frame.\n",
      "Error: Face could not be detected. Please confirm that the picture is a face photo or consider to set enforce_detection param to False.\n",
      "Face could not be detected. Skipping this frame.\n",
      "Error: Face could not be detected. Please confirm that the picture is a face photo or consider to set enforce_detection param to False.\n",
      "Face could not be detected. Skipping this frame.\n",
      "Error: Face could not be detected. Please confirm that the picture is a face photo or consider to set enforce_detection param to False.\n",
      "Face could not be detected. Skipping this frame.\n",
      "Error: Face could not be detected. Please confirm that the picture is a face photo or consider to set enforce_detection param to False.\n",
      "Face could not be detected. Skipping this frame.\n",
      "Error: Face could not be detected. Please confirm that the picture is a face photo or consider to set enforce_detection param to False.\n",
      "Face could not be detected. Skipping this frame.\n",
      "Error: Face could not be detected. Please confirm that the picture is a face photo or consider to set enforce_detection param to False.\n",
      "Face could not be detected. Skipping this frame.\n",
      "Error: Face could not be detected. Please confirm that the picture is a face photo or consider to set enforce_detection param to False.\n",
      "Face could not be detected. Skipping this frame.\n",
      "Error: Face could not be detected. Please confirm that the picture is a face photo or consider to set enforce_detection param to False.\n",
      "Face could not be detected. Skipping this frame.\n",
      "Error: Face could not be detected. Please confirm that the picture is a face photo or consider to set enforce_detection param to False.\n",
      "Face could not be detected. Skipping this frame.\n",
      "Error: Face could not be detected. Please confirm that the picture is a face photo or consider to set enforce_detection param to False.\n",
      "Face could not be detected. Skipping this frame.\n",
      "Error: Face could not be detected. Please confirm that the picture is a face photo or consider to set enforce_detection param to False.\n",
      "Face could not be detected. Skipping this frame.\n",
      "Error: Face could not be detected. Please confirm that the picture is a face photo or consider to set enforce_detection param to False.\n",
      "Face could not be detected. Skipping this frame.\n",
      "Error: Face could not be detected. Please confirm that the picture is a face photo or consider to set enforce_detection param to False.\n",
      "Face could not be detected. Skipping this frame.\n",
      "Error: Face could not be detected. Please confirm that the picture is a face photo or consider to set enforce_detection param to False.\n",
      "Face could not be detected. Skipping this frame.\n",
      "Error: Face could not be detected. Please confirm that the picture is a face photo or consider to set enforce_detection param to False.\n",
      "Face could not be detected. Skipping this frame.\n"
     ]
    },
    {
     "name": "stderr",
     "output_type": "stream",
     "text": [
      "Action: race: 100%|██████████| 4/4 [00:02<00:00,  1.61it/s]   \n",
      "qt.qpa.plugin: Could not find the Qt platform plugin \"wayland\" in \"/home/its_relative/.local/lib/python3.10/site-packages/cv2/qt/plugins\"\n"
     ]
    },
    {
     "name": "stdout",
     "output_type": "stream",
     "text": [
      "Error: Face could not be detected. Please confirm that the picture is a face photo or consider to set enforce_detection param to False.\n",
      "Face could not be detected. Skipping this frame.\n",
      "Error: Face could not be detected. Please confirm that the picture is a face photo or consider to set enforce_detection param to False.\n",
      "Face could not be detected. Skipping this frame.\n",
      "Error: Face could not be detected. Please confirm that the picture is a face photo or consider to set enforce_detection param to False.\n",
      "Face could not be detected. Skipping this frame.\n",
      "Error: Face could not be detected. Please confirm that the picture is a face photo or consider to set enforce_detection param to False.\n",
      "Face could not be detected. Skipping this frame.\n"
     ]
    },
    {
     "name": "stderr",
     "output_type": "stream",
     "text": [
      "Action: race: 100%|██████████| 4/4 [00:01<00:00,  3.98it/s]  \n",
      "Action: race: 100%|██████████| 4/4 [00:00<00:00,  4.36it/s]  \n",
      "Action: race: 100%|██████████| 4/4 [00:00<00:00,  4.53it/s]  \n",
      "Action: race: 100%|██████████| 4/4 [00:00<00:00,  4.71it/s]  \n",
      "Action: race: 100%|██████████| 4/4 [00:00<00:00,  4.35it/s]  \n",
      "Action: race: 100%|██████████| 4/4 [00:00<00:00,  4.50it/s]  \n",
      "Action: race: 100%|██████████| 4/4 [00:00<00:00,  4.47it/s]  \n",
      "Action: race: 100%|██████████| 4/4 [00:00<00:00,  4.63it/s]  \n"
     ]
    },
    {
     "name": "stdout",
     "output_type": "stream",
     "text": [
      "Error: Face could not be detected. Please confirm that the picture is a face photo or consider to set enforce_detection param to False.\n",
      "Face could not be detected. Skipping this frame.\n",
      "Error: Face could not be detected. Please confirm that the picture is a face photo or consider to set enforce_detection param to False.\n",
      "Face could not be detected. Skipping this frame.\n"
     ]
    },
    {
     "name": "stderr",
     "output_type": "stream",
     "text": [
      "Action: race: 100%|██████████| 4/4 [00:00<00:00,  4.37it/s]  \n",
      "Action: race: 100%|██████████| 4/4 [00:00<00:00,  4.62it/s]  \n",
      "Action: race: 100%|██████████| 4/4 [00:00<00:00,  4.63it/s]  \n"
     ]
    },
    {
     "name": "stdout",
     "output_type": "stream",
     "text": [
      "Error: Face could not be detected. Please confirm that the picture is a face photo or consider to set enforce_detection param to False.\n",
      "Face could not be detected. Skipping this frame.\n",
      "Error: Face could not be detected. Please confirm that the picture is a face photo or consider to set enforce_detection param to False.\n",
      "Face could not be detected. Skipping this frame.\n",
      "Error: Face could not be detected. Please confirm that the picture is a face photo or consider to set enforce_detection param to False.\n",
      "Face could not be detected. Skipping this frame.\n"
     ]
    },
    {
     "name": "stderr",
     "output_type": "stream",
     "text": [
      "Action: race: 100%|██████████| 4/4 [00:00<00:00,  4.59it/s]  \n",
      "Action: race: 100%|██████████| 4/4 [00:00<00:00,  4.74it/s]  \n",
      "Action: race: 100%|██████████| 4/4 [00:00<00:00,  4.53it/s]  \n",
      "Action: race: 100%|██████████| 4/4 [00:00<00:00,  4.57it/s]  \n",
      "Action: race: 100%|██████████| 4/4 [00:00<00:00,  4.47it/s]  \n",
      "Action: race: 100%|██████████| 4/4 [00:00<00:00,  4.66it/s]  \n",
      "Action: race: 100%|██████████| 4/4 [00:00<00:00,  4.59it/s]  \n",
      "Action: race: 100%|██████████| 4/4 [00:00<00:00,  4.51it/s]  \n"
     ]
    },
    {
     "name": "stdout",
     "output_type": "stream",
     "text": [
      "Error: Face could not be detected. Please confirm that the picture is a face photo or consider to set enforce_detection param to False.\n",
      "Face could not be detected. Skipping this frame.\n",
      "Error: Face could not be detected. Please confirm that the picture is a face photo or consider to set enforce_detection param to False.\n",
      "Face could not be detected. Skipping this frame.\n",
      "Error: Face could not be detected. Please confirm that the picture is a face photo or consider to set enforce_detection param to False.\n",
      "Face could not be detected. Skipping this frame.\n",
      "Error: Face could not be detected. Please confirm that the picture is a face photo or consider to set enforce_detection param to False.\n",
      "Face could not be detected. Skipping this frame.\n"
     ]
    },
    {
     "name": "stderr",
     "output_type": "stream",
     "text": [
      "Action: race: 100%|██████████| 4/4 [00:00<00:00,  4.53it/s]  \n",
      "Action: race: 100%|██████████| 4/4 [00:00<00:00,  4.57it/s]  \n",
      "Action: race: 100%|██████████| 4/4 [00:00<00:00,  4.53it/s]  \n",
      "Action: race: 100%|██████████| 4/4 [00:00<00:00,  4.52it/s]  \n",
      "Action: race: 100%|██████████| 4/4 [00:00<00:00,  4.50it/s]  \n",
      "Action: race: 100%|██████████| 4/4 [00:00<00:00,  4.48it/s]  \n"
     ]
    },
    {
     "name": "stdout",
     "output_type": "stream",
     "text": [
      "Error: Face could not be detected. Please confirm that the picture is a face photo or consider to set enforce_detection param to False.\n",
      "Face could not be detected. Skipping this frame.\n",
      "Error: Face could not be detected. Please confirm that the picture is a face photo or consider to set enforce_detection param to False.\n",
      "Face could not be detected. Skipping this frame.\n"
     ]
    },
    {
     "name": "stderr",
     "output_type": "stream",
     "text": [
      "Action: race: 100%|██████████| 4/4 [00:00<00:00,  4.79it/s]  \n"
     ]
    },
    {
     "name": "stdout",
     "output_type": "stream",
     "text": [
      "Error: Face could not be detected. Please confirm that the picture is a face photo or consider to set enforce_detection param to False.\n",
      "Face could not be detected. Skipping this frame.\n",
      "Error: Face could not be detected. Please confirm that the picture is a face photo or consider to set enforce_detection param to False.\n",
      "Face could not be detected. Skipping this frame.\n",
      "Error: Face could not be detected. Please confirm that the picture is a face photo or consider to set enforce_detection param to False.\n",
      "Face could not be detected. Skipping this frame.\n",
      "Error: Face could not be detected. Please confirm that the picture is a face photo or consider to set enforce_detection param to False.\n",
      "Face could not be detected. Skipping this frame.\n",
      "Error: Face could not be detected. Please confirm that the picture is a face photo or consider to set enforce_detection param to False.\n",
      "Face could not be detected. Skipping this frame.\n",
      "Error: Face could not be detected. Please confirm that the picture is a face photo or consider to set enforce_detection param to False.\n",
      "Face could not be detected. Skipping this frame.\n",
      "Error: Face could not be detected. Please confirm that the picture is a face photo or consider to set enforce_detection param to False.\n",
      "Face could not be detected. Skipping this frame.\n",
      "Error: Face could not be detected. Please confirm that the picture is a face photo or consider to set enforce_detection param to False.\n",
      "Face could not be detected. Skipping this frame.\n",
      "Error: Face could not be detected. Please confirm that the picture is a face photo or consider to set enforce_detection param to False.\n",
      "Face could not be detected. Skipping this frame.\n",
      "Error: Face could not be detected. Please confirm that the picture is a face photo or consider to set enforce_detection param to False.\n",
      "Face could not be detected. Skipping this frame.\n",
      "Error: Face could not be detected. Please confirm that the picture is a face photo or consider to set enforce_detection param to False.\n",
      "Face could not be detected. Skipping this frame.\n",
      "Error: Face could not be detected. Please confirm that the picture is a face photo or consider to set enforce_detection param to False.\n",
      "Face could not be detected. Skipping this frame.\n",
      "Error: Face could not be detected. Please confirm that the picture is a face photo or consider to set enforce_detection param to False.\n",
      "Face could not be detected. Skipping this frame.\n",
      "Error: Face could not be detected. Please confirm that the picture is a face photo or consider to set enforce_detection param to False.\n",
      "Face could not be detected. Skipping this frame.\n",
      "Error: Face could not be detected. Please confirm that the picture is a face photo or consider to set enforce_detection param to False.\n",
      "Face could not be detected. Skipping this frame.\n",
      "Error: Face could not be detected. Please confirm that the picture is a face photo or consider to set enforce_detection param to False.\n",
      "Face could not be detected. Skipping this frame.\n",
      "Error: Face could not be detected. Please confirm that the picture is a face photo or consider to set enforce_detection param to False.\n",
      "Face could not be detected. Skipping this frame.\n",
      "Error: Face could not be detected. Please confirm that the picture is a face photo or consider to set enforce_detection param to False.\n",
      "Face could not be detected. Skipping this frame.\n",
      "Error: Face could not be detected. Please confirm that the picture is a face photo or consider to set enforce_detection param to False.\n",
      "Face could not be detected. Skipping this frame.\n"
     ]
    },
    {
     "name": "stderr",
     "output_type": "stream",
     "text": [
      "Action: race: 100%|██████████| 4/4 [00:01<00:00,  2.49it/s]  \n"
     ]
    }
   ],
   "source": [
    "capture = cv2.VideoCapture(0)\n",
    "\n",
    "while True:\n",
    "    ret, frame = capture.read()\n",
    "\n",
    "    try:\n",
    "        # Try to analyze the frame\n",
    "        emotion = DeepFace.analyze(frame, enforce_detection=True)\n",
    "\n",
    "        # Code to draw a rectangle around the face\n",
    "        face_cascade = cv2.CascadeClassifier(cv2.data.haarcascades + \"haarcascade_frontalface_default.xml\")\n",
    "        gray_frame = cv2.cvtColor(frame, cv2.COLOR_BGR2GRAY)\n",
    "        faces = face_cascade.detectMultiScale(gray_frame, scaleFactor=1.3, minNeighbors=5)\n",
    "        \n",
    "        for (x, y, w, h) in faces:\n",
    "            cv2.rectangle(frame, (x, y), (x+w, y+h), (255, 0, 0), 2)\n",
    "        \n",
    "        # puting the emotion on screen frame\n",
    "\n",
    "        cv2.putText(frame,emotion[0][\"dominant_emotion\"],(50,100), cv2.FONT_HERSHEY_SIMPLEX, 3,(255,0,0),cv2.LINE_AA)\n",
    "\n",
    "        # Display the video frame\n",
    "        cv2.imshow(\"Video\", frame)\n",
    "\n",
    "    except ValueError as e:\n",
    "        # Handle the exception\n",
    "        print(f\"Error: {e}\")\n",
    "        print(\"Face could not be detected. Skipping this frame.\")\n",
    "\n",
    "    # Break the loop if 'q' key is pressed\n",
    "    if cv2.waitKey(1) & 0xFF == ord(\"q\"):\n",
    "        break\n",
    "capture.release()\n",
    "cv2.destroyAllWindows()\n",
    "# emotion\n"
   ]
  },
  {
   "cell_type": "code",
   "execution_count": 7,
   "metadata": {},
   "outputs": [
    {
     "name": "stderr",
     "output_type": "stream",
     "text": [
      "Action: race: 100%|██████████| 4/4 [00:02<00:00,  1.89it/s]   \n"
     ]
    }
   ],
   "source": [
    "analysing = DeepFace.analyze(\"image.jpg\")"
   ]
  },
  {
   "cell_type": "code",
   "execution_count": 10,
   "metadata": {},
   "outputs": [],
   "source": [
    "img = cv2.imread(\"image.jpg\",1)\n",
    "cv2.imshow(\"Image\",img)\n",
    "cv2.waitKey(10000)\n",
    "cv2.destroyAllWindows()"
   ]
  },
  {
   "cell_type": "code",
   "execution_count": 8,
   "metadata": {},
   "outputs": [
    {
     "data": {
      "text/plain": [
       "{'emotion': {'angry': 4.8941319746864664e-11,\n",
       "  'disgust': 1.4423393353733006e-25,\n",
       "  'fear': 0.002602305175969377,\n",
       "  'happy': 99.99545812606812,\n",
       "  'sad': 1.2819062217978017e-10,\n",
       "  'surprise': 0.0001148248884419445,\n",
       "  'neutral': 0.0018237462427350692},\n",
       " 'dominant_emotion': 'happy',\n",
       " 'region': {'x': 288, 'y': 108, 'w': 226, 'h': 226},\n",
       " 'age': 30,\n",
       " 'gender': {'Woman': 77.35637426376343, 'Man': 22.64362871646881},\n",
       " 'dominant_gender': 'Woman',\n",
       " 'race': {'asian': 7.517028599977493,\n",
       "  'indian': 2.9977163299918175,\n",
       "  'black': 0.4172953777015209,\n",
       "  'white': 50.06176829338074,\n",
       "  'middle eastern': 17.54167675971985,\n",
       "  'latino hispanic': 21.46451622247696},\n",
       " 'dominant_race': 'white'}"
      ]
     },
     "execution_count": 8,
     "metadata": {},
     "output_type": "execute_result"
    }
   ],
   "source": [
    "analysing[0]"
   ]
  }
 ],
 "metadata": {
  "kernelspec": {
   "display_name": "Python 3",
   "language": "python",
   "name": "python3"
  },
  "language_info": {
   "codemirror_mode": {
    "name": "ipython",
    "version": 3
   },
   "file_extension": ".py",
   "mimetype": "text/x-python",
   "name": "python",
   "nbconvert_exporter": "python",
   "pygments_lexer": "ipython3",
   "version": "3.10.12"
  }
 },
 "nbformat": 4,
 "nbformat_minor": 2
}
