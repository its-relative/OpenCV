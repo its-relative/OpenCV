{
 "cells": [
  {
   "cell_type": "markdown",
   "metadata": {},
   "source": [
    "### Importing library"
   ]
  },
  {
   "cell_type": "code",
   "execution_count": 2,
   "metadata": {},
   "outputs": [],
   "source": [
    "import cv2"
   ]
  },
  {
   "cell_type": "markdown",
   "metadata": {},
   "source": [
    "Reading, drawing shapes and puting text on the image."
   ]
  },
  {
   "cell_type": "code",
   "execution_count": 8,
   "metadata": {},
   "outputs": [],
   "source": [
    "img = cv2.imread(\"lena.jpg\", 1)\n",
    "cv2.line(img, (0,0),(700,700), (255,0,0), 10)\n",
    "cv2.rectangle(img, (0,0),(700,700), (0,255,0), 10)\n",
    "cv2.circle(img, (50,50), 70, (0,0,255),10)\n",
    "font = cv2.FONT_HERSHEY_COMPLEX\n",
    "cv2.putText(img,\"Hello World!\",(105,100),font, 2, (105,60,70), 4)\n",
    "cv2.imshow(\"Winname\", img)\n",
    "cv2.waitKey(0)\n",
    "cv2.destroyAllWindows()\n"
   ]
  }
 ],
 "metadata": {
  "kernelspec": {
   "display_name": "Python 3",
   "language": "python",
   "name": "python3"
  },
  "language_info": {
   "codemirror_mode": {
    "name": "ipython",
    "version": 3
   },
   "file_extension": ".py",
   "mimetype": "text/x-python",
   "name": "python",
   "nbconvert_exporter": "python",
   "pygments_lexer": "ipython3",
   "version": "3.10.12"
  }
 },
 "nbformat": 4,
 "nbformat_minor": 2
}
